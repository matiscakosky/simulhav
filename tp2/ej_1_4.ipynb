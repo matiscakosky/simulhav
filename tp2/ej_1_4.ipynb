{
 "cells": [
  {
   "cell_type": "markdown",
   "metadata": {},
   "source": [
    "# Trabajo Practico 2"
   ]
  },
  {
   "cell_type": "code",
   "execution_count": 108,
   "metadata": {},
   "outputs": [],
   "source": [
    "import numpy as np\n",
    "import simpy "
   ]
  },
  {
   "cell_type": "markdown",
   "metadata": {},
   "source": [
    "## Ejercicio 1"
   ]
  },
  {
   "cell_type": "markdown",
   "metadata": {},
   "source": [
    "Simule el siguiente problema.\n",
    "Se está diseñando un web service, el cual cada vez que es invocado consulta a una base de datos.\n",
    "El tiempo que transcurre entre cada llamada al servicio se puede modelar según una distribución exponencial con media 𝜇\n",
    "Considerar 𝜇 = 1, 2 𝑦 4 𝑠𝑒𝑔𝑢𝑛𝑑𝑜𝑠"
   ]
  },
  {
   "cell_type": "markdown",
   "metadata": {},
   "source": [
    "Realizar 100 simulaciones de cada modelo, con 100000 solicitudes procesadas, y determinar:\n",
    "- El tiempo medio de espera entre que la solicitud llega y puede ser procesada (suponer que ninguna conexión se\n",
    "cae por timeout).\n",
    "- La fracción de las solicitudes que no esperaron para ser procesadas.\n",
    "- La tasa de finalización de consultas (consultas finalizadas por segundo)\n",
    "- ¿Qué solución le recomienda? Justifique"
   ]
  },
  {
   "cell_type": "code",
   "execution_count": 109,
   "metadata": {},
   "outputs": [],
   "source": [
    "def tiempos_de_arribo(media, cantidad_ensayos):\n",
    "    z = np.random.exponential(media, cantidad_ensayos)\n",
    "    return np.concatenate(([0], np.cumsum(z)), axis=None)"
   ]
  },
  {
   "cell_type": "markdown",
   "metadata": {},
   "source": [
    "#### Alternativa 1\n",
    "Se utilizan 2 bases de datos distribuidas.\n",
    "Con probabilidad 𝑝 = 0.6 las solicitudes son atendidas por la base A y con probabilidad 𝑞 = 1 − 𝑝 son atendidos por la\n",
    "base de datos B.\n",
    "El tiempo que demora cada base de datos en atender una solicitud sigue una distribución exponencial con medias,\n",
    "𝜇1 = 0,7 𝑠𝑒𝑔 y 𝜇2 = 0,95 𝑠𝑒𝑔 respectivamente."
   ]
  },
  {
   "cell_type": "code",
   "execution_count": 110,
   "metadata": {},
   "outputs": [],
   "source": [
    "def tiempos_en_base(arribos, media):\n",
    "    t_actual = 0\n",
    "    tiempos_espera = []\n",
    "    tiempos_procesado = []\n",
    "    for t_arribo in arribos:\n",
    "        t_base = np.random.exponential(media)\n",
    "        if t_arribo < t_actual:\n",
    "            t_espera = t_actual - t_arribo\n",
    "            tiempos_espera.append(t_espera)\n",
    "            t_procesado = t_arribo + t_espera + t_base\n",
    "            tiempos_procesado.append(t_procesado)\n",
    "            t_actual += t_base\n",
    "        else:\n",
    "            t_espera = 0\n",
    "            tiempos_espera.append(t_espera)\n",
    "            t_procesado = t_arribo + t_base\n",
    "            tiempos_procesado.append(t_procesado)\n",
    "            t_actual = t_arribo + t_base\n",
    "    return tiempos_espera, tiempos_procesado"
   ]
  },
  {
   "cell_type": "code",
   "execution_count": 111,
   "metadata": {},
   "outputs": [],
   "source": [
    "def alternativa_1(media_arribos, solicitudes_procesadas):\n",
    "    tiempos_arribo = tiempos_de_arribo(media_arribos, solicitudes_procesadas)\n",
    "    proba_a = 0.6\n",
    "    tiempos_a = []\n",
    "    tiempos_b = []\n",
    "    for t in tiempos_arribo:\n",
    "        bdd = np.random.uniform()\n",
    "        t_p = t\n",
    "        t_e = 0\n",
    "        if bdd < proba_a:\n",
    "            tiempos_a.append(t)\n",
    "        else:\n",
    "            tiempos_b.append(t)\n",
    "    tiempos_espera_a,tiempos_procesado_a = tiempos_en_base(tiempos_a, 0.7)\n",
    "    tiempos_espera_b,tiempos_procesado_b = tiempos_en_base(tiempos_b, 0.95)\n",
    "    return tiempos_a + tiempos_b, tiempos_procesado_a + tiempos_procesado_b, tiempos_espera_a + tiempos_espera_b"
   ]
  },
  {
   "cell_type": "code",
   "execution_count": 115,
   "metadata": {},
   "outputs": [],
   "source": [
    "def simular(media_arribos, cantidad_simulaciones, muestra, alternativa):\n",
    "    tiempos_medios_espera_resultado = []\n",
    "    fraccion_sin_espera_resultado = []\n",
    "    tasa_finalizacion_resultado = []\n",
    "    for i in range(cantidad_simulaciones):\n",
    "        tiempos_arribo, tiempos_procesado, tiempos_espera = alternativa(media_arribos, muestra)\n",
    "        tiempos_medios_espera_resultado.append(sum(tiempos_espera)/muestra)\n",
    "        sin_espera = list(filter(lambda x: x==0, tiempos_espera))\n",
    "        fraccion_sin_espera = len(sin_espera) / muestra\n",
    "        fraccion_sin_espera_resultado.append(fraccion_sin_espera)\n",
    "        tasa_finalizacion = muestra / max(tiempos_procesado)\n",
    "        tasa_finalizacion_resultado.append(tasa_finalizacion)\n",
    "    tiempo_medio_total = sum(tiempos_medios_espera_resultado)/len(tiempos_medios_espera_resultado)\n",
    "    fraccion_sin_espera_total = sum(fraccion_sin_espera_resultado)/len(fraccion_sin_espera_resultado)\n",
    "    tasa_finalizacion_total = sum(tasa_finalizacion_resultado)/len(tasa_finalizacion_resultado)\n",
    "    return tiempo_medio_total, fraccion_sin_espera_total, tasa_finalizacion_total"
   ]
  },
  {
   "cell_type": "code",
   "execution_count": 116,
   "metadata": {},
   "outputs": [],
   "source": [
    "def mostrar_resultado(resultado):\n",
    "    tiempo_medio_espera, fraccion_sin_espera, tasa_finalizacion = resultado\n",
    "    print(\"Tiempo medio de espera: {} segundos\".format(tiempo_medio_espera))\n",
    "    print(\"Fraccion de solicitudes sin esperar: {}\".format(fraccion_sin_espera))\n",
    "    print(\"Tasa de finalizacion: {} solicitudes finalizadas por segundo\".format(tasa_finalizacion))"
   ]
  },
  {
   "cell_type": "code",
   "execution_count": null,
   "metadata": {},
   "outputs": [],
   "source": [
    "mostrar_resultado(simular(1, 100, 100000, alternativa_1))"
   ]
  },
  {
   "cell_type": "code",
   "execution_count": null,
   "metadata": {},
   "outputs": [],
   "source": [
    "mostrar_resultado(simular(2, 100, 100000, alternativa_1))"
   ]
  },
  {
   "cell_type": "code",
   "execution_count": null,
   "metadata": {},
   "outputs": [],
   "source": [
    "mostrar_resultado(simular(4, 100, 100000, alternativa_1))"
   ]
  },
  {
   "cell_type": "markdown",
   "metadata": {},
   "source": [
    "#### Alternativa 2\n",
    "Utilizar 1 base de datos central.\n",
    "En este caso la demora en resolver una solicitud sigue una distribución exponencial con 𝜇 = 0,8 𝑠𝑒𝑔𝑢𝑛𝑑𝑜"
   ]
  },
  {
   "cell_type": "code",
   "execution_count": 117,
   "metadata": {},
   "outputs": [],
   "source": [
    "def alternativa_2(media_arribos, solicitudes_procesadas):\n",
    "    tiempos_arribo = tiempos_de_arribo(media_arribos, solicitudes_procesadas)\n",
    "    tiempos_espera,tiempos_procesado = tiempos_en_base(tiempos_arribo, 0.8)\n",
    "    return tiempos_arribo, tiempos_procesado, tiempos_espera"
   ]
  },
  {
   "cell_type": "code",
   "execution_count": 118,
   "metadata": {},
   "outputs": [
    {
     "name": "stdout",
     "output_type": "stream",
     "text": [
      "Tiempo medio de espera: 3.2164751593019743 segundos\n",
      "Fraccion de solicitudes sin esperar: 0.19988480000000003\n",
      "Tasa de finalizacion: 0.9995066340810936 solicitudes finalizadas por segundo\n"
     ]
    }
   ],
   "source": [
    "mostrar_resultado(simular(1, 100, 100000, alternativa_2))"
   ]
  },
  {
   "cell_type": "code",
   "execution_count": 131,
   "metadata": {},
   "outputs": [
    {
     "name": "stdout",
     "output_type": "stream",
     "text": [
      "Tiempo medio de espera: 0.5338943495503664 segundos\n",
      "Fraccion de solicitudes sin esperar: 0.5998832\n",
      "Tasa de finalizacion: 0.5001211553168818 solicitudes finalizadas por segundo\n"
     ]
    }
   ],
   "source": [
    "mostrar_resultado(simular(2, 100, 100000, alternativa_2))"
   ]
  },
  {
   "cell_type": "code",
   "execution_count": 132,
   "metadata": {},
   "outputs": [
    {
     "name": "stdout",
     "output_type": "stream",
     "text": [
      "Tiempo medio de espera: 0.19990414086428815 segundos\n",
      "Fraccion de solicitudes sin esperar: 0.8001175999999998\n",
      "Tasa de finalizacion: 0.2500092621084846 solicitudes finalizadas por segundo\n"
     ]
    }
   ],
   "source": [
    "mostrar_resultado(simular(4, 100, 100000, alternativa_2))"
   ]
  },
  {
   "cell_type": "markdown",
   "metadata": {},
   "source": [
    "#### Conclusiones\n",
    "\n",
    "Para concluir cuál alternativa es la que se recomienda se deben observar los distintos valores obtenidos:\n",
    "- Tiempo medio de espera: la alternativa 1 tiene menor tiempo medio de espera para todas las medias propuestas\n",
    "- Fracción de solicitudes sin esperar: la alternativa 1 tiene mayor fracción de solicitudes sin esperar para todas las medias propuestas\n",
    "- Tasa de finalización: son similares en ambas alternativas\n",
    "\n",
    "En conclusión, se recomienda la alternativa 1 ya que se obtuvieron mejores resultados en los distintos valores analizados. "
   ]
  },
  {
   "cell_type": "markdown",
   "metadata": {},
   "source": [
    "## Ejercicio 4"
   ]
  },
  {
   "cell_type": "markdown",
   "metadata": {},
   "source": [
    "Implementar las 2 alternativas del Ejercicio 1 utilizando SimPy.\n",
    "\n",
    "Comparar los resultados obtenidos con el ejercicio 1."
   ]
  },
  {
   "cell_type": "markdown",
   "metadata": {},
   "source": [
    "#### Alternativa 2\n",
    "\n",
    "Utilizar 1 base de datos central. En este caso la demora en resolver una solicitud sigue una distribución exponencial con 𝜇 = 0,8 𝑠𝑒𝑔𝑢𝑛𝑑𝑜"
   ]
  },
  {
   "cell_type": "code",
   "execution_count": 163,
   "metadata": {},
   "outputs": [],
   "source": [
    "MUESTRA = 1000 # todo: setear bien muestra\n",
    "MEDIA_BASE = 0.8\n",
    "N_SIMULACIONES = 100\n",
    "\n",
    "def source(env, muestra, media_arribos, counter, media_base, tiempos_espera, tiempos_procesado):\n",
    "    for i in range(muestra):\n",
    "        r = request(env, counter, media_base, tiempos_espera, tiempos_procesado)\n",
    "        env.process(r)\n",
    "        t = np.random.exponential(media_arribos)\n",
    "        yield env.timeout(t)\n",
    "        \n",
    "def request(env, counter, media_base, tiempos_espera, tiempos_procesado):\n",
    "    tiempo_arribo = env.now\n",
    "\n",
    "    with counter.request() as req:\n",
    "        yield req\n",
    "        tiempo_actual = env.now\n",
    "        tiempo_espera = tiempo_actual - tiempo_arribo\n",
    "        t_base = np.random.exponential(media_base)\n",
    "        yield env.timeout(t_base)\n",
    "        tiempos_espera.append(tiempo_espera)\n",
    "        tiempos_procesado.append(tiempo_actual + tiempo_espera + t_base)\n",
    "        \n",
    "def ejecutar_simulacion(muestra, media_arribos, media_base, n_simulaciones):\n",
    "    tiempos_espera_medios_resultado = []\n",
    "    fraccion_sin_espera_resultado = []\n",
    "    taza_finalizacion_resultado = []\n",
    "    \n",
    "    for _ in range(n_simulaciones):\n",
    "        tiempos_espera = []\n",
    "        tiempos_procesado = []\n",
    "        env = simpy.Environment()\n",
    "        counter = simpy.Resource(env, capacity=1)\n",
    "        env.process(source(env, muestra, media_arribos, counter, media_base, tiempos_espera, tiempos_procesado))\n",
    "        env.run()        \n",
    "        \n",
    "        sin_espera = list(filter(lambda x: x==0, tiempos_espera))\n",
    "        fraccion_sin_espera = len(sin_espera) / muestra\n",
    "        fraccion_sin_espera_resultado.append(fraccion_sin_espera)\n",
    "        \n",
    "        taza_finalizacion = muestra / max(tiempos_procesado)\n",
    "        taza_finalizacion_resultado.append(taza_finalizacion)\n",
    "        \n",
    "        tiempos_espera_medios_resultado.append(calcular_tiempo_medio(tiempos_espera))\n",
    "    return tiempos_espera_medios_resultado, fraccion_sin_espera_resultado, taza_finalizacion_resultado\n",
    "\n",
    "def calcular_promedio(numeros):\n",
    "    return sum(numeros) / len(numeros)"
   ]
  },
  {
   "cell_type": "code",
   "execution_count": 164,
   "metadata": {},
   "outputs": [
    {
     "name": "stdout",
     "output_type": "stream",
     "text": [
      "Tiempo medio de espera: 3.1072157187953255 segundos\n",
      "Fraccion de solicitudes sin esperar: 0.20498999999999995\n",
      "Tasa de finalizacion: 0.9924038391059307 solicitudes finalizadas por segundo\n"
     ]
    }
   ],
   "source": [
    "MEDIA_ARRIBOS = 1\n",
    "\n",
    "tiempos_espera_medios, fraccion_sin_espera_resultado, taza_finalizacion_resultado = ejecutar_simulacion(MUESTRA, MEDIA_ARRIBOS, MEDIA_BASE, N_SIMULACIONES)\n",
    "tiempo_medio_espera = calcular_promedio(tiempos_espera_medios)\n",
    "fraccion_sin_espera = calcular_promedio(fraccion_sin_espera_resultado)\n",
    "taza_finalizacion = calcular_promedio(taza_finalizacion_resultado)\n",
    "\n",
    "mostrar_resultado((tiempo_medio_espera, fraccion_sin_espera, taza_finalizacion))"
   ]
  },
  {
   "cell_type": "code",
   "execution_count": 166,
   "metadata": {},
   "outputs": [
    {
     "name": "stdout",
     "output_type": "stream",
     "text": [
      "Tiempo medio de espera: 0.5160941435862073 segundos\n",
      "Fraccion de solicitudes sin esperar: 0.6042399999999999\n",
      "Tasa de finalizacion: 0.49902650808604304 solicitudes finalizadas por segundo\n"
     ]
    }
   ],
   "source": [
    "MEDIA_ARRIBOS = 2\n",
    "\n",
    "tiempos_espera_medios, fraccion_sin_espera_resultado, taza_finalizacion_resultado = ejecutar_simulacion(MUESTRA, MEDIA_ARRIBOS, MEDIA_BASE, N_SIMULACIONES)\n",
    "tiempo_medio_espera = calcular_promedio(tiempos_espera_medios)\n",
    "fraccion_sin_espera = calcular_promedio(fraccion_sin_espera_resultado)\n",
    "taza_finalizacion = calcular_promedio(taza_finalizacion_resultado)\n",
    "\n",
    "mostrar_resultado((tiempo_medio_espera, fraccion_sin_espera, taza_finalizacion))"
   ]
  },
  {
   "cell_type": "code",
   "execution_count": 167,
   "metadata": {},
   "outputs": [
    {
     "name": "stdout",
     "output_type": "stream",
     "text": [
      "Tiempo medio de espera: 0.19949842327082634 segundos\n",
      "Fraccion de solicitudes sin esperar: 0.8008100000000004\n",
      "Tasa de finalizacion: 0.2502993182392751 solicitudes finalizadas por segundo\n"
     ]
    }
   ],
   "source": [
    "MEDIA_ARRIBOS = 4\n",
    "\n",
    "tiempos_espera_medios, fraccion_sin_espera_resultado, taza_finalizacion_resultado = ejecutar_simulacion(MUESTRA, MEDIA_ARRIBOS, MEDIA_BASE, N_SIMULACIONES)\n",
    "tiempo_medio_espera = calcular_promedio(tiempos_espera_medios)\n",
    "fraccion_sin_espera = calcular_promedio(fraccion_sin_espera_resultado)\n",
    "taza_finalizacion = calcular_promedio(taza_finalizacion_resultado)\n",
    "\n",
    "mostrar_resultado((tiempo_medio_espera, fraccion_sin_espera, taza_finalizacion))"
   ]
  }
 ],
 "metadata": {
  "kernelspec": {
   "display_name": "Python 3",
   "language": "python",
   "name": "python3"
  },
  "language_info": {
   "codemirror_mode": {
    "name": "ipython",
    "version": 3
   },
   "file_extension": ".py",
   "mimetype": "text/x-python",
   "name": "python",
   "nbconvert_exporter": "python",
   "pygments_lexer": "ipython3",
   "version": "3.8.5"
  }
 },
 "nbformat": 4,
 "nbformat_minor": 4
}
