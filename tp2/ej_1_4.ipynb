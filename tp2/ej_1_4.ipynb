{
 "cells": [
  {
   "cell_type": "markdown",
   "metadata": {},
   "source": [
    "# Trabajo Practico 2\n",
    "## Ejercicios 1 y 4"
   ]
  },
  {
   "cell_type": "code",
   "execution_count": 1,
   "metadata": {},
   "outputs": [],
   "source": [
    "import numpy as np\n",
    "import simpy"
   ]
  },
  {
   "cell_type": "markdown",
   "metadata": {},
   "source": [
    "### Funciones y constantes comunes"
   ]
  },
  {
   "cell_type": "code",
   "execution_count": 2,
   "metadata": {},
   "outputs": [],
   "source": [
    "def calcular_promedio(numeros):\n",
    "    return sum(numeros) / len(numeros)"
   ]
  },
  {
   "cell_type": "code",
   "execution_count": 24,
   "metadata": {},
   "outputs": [],
   "source": [
    "def mostrar_resultado(resultado):\n",
    "    tiempo_medio_espera, fraccion_sin_espera, tasa_finalizacion = resultado\n",
    "    print(\"Tiempo medio de espera: {} segundos\".format(tiempo_medio_espera))\n",
    "    print(\"Fraccion de solicitudes sin esperar: {}\".format(fraccion_sin_espera))\n",
    "    print(\"Tasa de finalizacion: {} solicitudes finalizadas por segundo\".format(tasa_finalizacion))"
   ]
  },
  {
   "cell_type": "code",
   "execution_count": 23,
   "metadata": {},
   "outputs": [],
   "source": [
    "MUESTRA = 100000\n",
    "N_SIMULACIONES = 100\n",
    "PROBA_BASE_A = 0.6\n",
    "MEDIA_BASE_A = 0.7\n",
    "MEDIA_BASE_B = 0.95\n",
    "MEDIA_BASE = 0.8"
   ]
  },
  {
   "cell_type": "markdown",
   "metadata": {},
   "source": [
    "## Ejercicio 1"
   ]
  },
  {
   "cell_type": "markdown",
   "metadata": {},
   "source": [
    "Simule el siguiente problema.\n",
    "Se está diseñando un web service, el cual cada vez que es invocado consulta a una base de datos.\n",
    "El tiempo que transcurre entre cada llamada al servicio se puede modelar según una distribución exponencial con media 𝜇\n",
    "Considerar 𝜇 = 1, 2 𝑦 4 𝑠𝑒𝑔𝑢𝑛𝑑𝑜𝑠"
   ]
  },
  {
   "cell_type": "markdown",
   "metadata": {},
   "source": [
    "Realizar 100 simulaciones de cada modelo, con 100000 solicitudes procesadas, y determinar:\n",
    "- El tiempo medio de espera entre que la solicitud llega y puede ser procesada (suponer que ninguna conexión se\n",
    "cae por timeout).\n",
    "- La fracción de las solicitudes que no esperaron para ser procesadas.\n",
    "- La tasa de finalización de consultas (consultas finalizadas por segundo)\n",
    "- ¿Qué solución le recomienda? Justifique"
   ]
  },
  {
   "cell_type": "code",
   "execution_count": 12,
   "metadata": {},
   "outputs": [],
   "source": [
    "def tiempos_de_arribo(media, cantidad_ensayos):\n",
    "    z = np.random.exponential(media, cantidad_ensayos)\n",
    "    return np.concatenate(([0], np.cumsum(z)), axis=None)"
   ]
  },
  {
   "cell_type": "markdown",
   "metadata": {},
   "source": [
    "#### Alternativa 1\n",
    "Se utilizan 2 bases de datos distribuidas.\n",
    "Con probabilidad 𝑝 = 0.6 las solicitudes son atendidas por la base A y con probabilidad 𝑞 = 1 − 𝑝 son atendidos por la\n",
    "base de datos B.\n",
    "El tiempo que demora cada base de datos en atender una solicitud sigue una distribución exponencial con medias,\n",
    "𝜇1 = 0,7 𝑠𝑒𝑔 y 𝜇2 = 0,95 𝑠𝑒𝑔 respectivamente."
   ]
  },
  {
   "cell_type": "code",
   "execution_count": 15,
   "metadata": {},
   "outputs": [],
   "source": [
    "def tiempos_en_base(arribos, media):\n",
    "    t_actual = 0\n",
    "    tiempos_espera = []\n",
    "    tiempos_procesado = []\n",
    "    for t_arribo in arribos:\n",
    "        t_base = np.random.exponential(media)\n",
    "        if t_arribo < t_actual:\n",
    "            t_espera = t_actual - t_arribo\n",
    "            tiempos_espera.append(t_espera)\n",
    "            t_procesado = t_arribo + t_espera + t_base\n",
    "            tiempos_procesado.append(t_procesado)\n",
    "            t_actual += t_base\n",
    "        else:\n",
    "            t_espera = 0\n",
    "            tiempos_espera.append(t_espera)\n",
    "            t_procesado = t_arribo + t_base\n",
    "            tiempos_procesado.append(t_procesado)\n",
    "            t_actual = t_arribo + t_base\n",
    "    return tiempos_espera, tiempos_procesado"
   ]
  },
  {
   "cell_type": "code",
   "execution_count": 16,
   "metadata": {},
   "outputs": [],
   "source": [
    "def alternativa_1(media_arribos, solicitudes_procesadas):\n",
    "    tiempos_arribo = tiempos_de_arribo(media_arribos, solicitudes_procesadas)\n",
    "    tiempos_a = []\n",
    "    tiempos_b = []\n",
    "    for t in tiempos_arribo:\n",
    "        bdd = np.random.uniform()\n",
    "        t_p = t\n",
    "        t_e = 0\n",
    "        if bdd < PROBA_BASE_A:\n",
    "            tiempos_a.append(t)\n",
    "        else:\n",
    "            tiempos_b.append(t)\n",
    "    tiempos_espera_a, tiempos_procesado_a = tiempos_en_base(tiempos_a, MEDIA_BASE_A)\n",
    "    tiempos_espera_b, tiempos_procesado_b = tiempos_en_base(tiempos_b, MEDIA_BASE_B)\n",
    "    return tiempos_a + tiempos_b, tiempos_procesado_a + tiempos_procesado_b, tiempos_espera_a + tiempos_espera_b"
   ]
  },
  {
   "cell_type": "code",
   "execution_count": 17,
   "metadata": {},
   "outputs": [],
   "source": [
    "def simular(media_arribos, cantidad_simulaciones, muestra, alternativa):\n",
    "    tiempos_medios_espera_resultado = []\n",
    "    fraccion_sin_espera_resultado = []\n",
    "    tasa_finalizacion_resultado = []\n",
    "    for i in range(cantidad_simulaciones):\n",
    "        tiempos_arribo, tiempos_procesado, tiempos_espera = alternativa(media_arribos, muestra)\n",
    "        tiempos_medios_espera_resultado.append(sum(tiempos_espera)/muestra)\n",
    "        sin_espera = list(filter(lambda x: x==0, tiempos_espera))\n",
    "        fraccion_sin_espera = len(sin_espera) / muestra\n",
    "        fraccion_sin_espera_resultado.append(fraccion_sin_espera)\n",
    "        tasa_finalizacion = muestra / max(tiempos_procesado)\n",
    "        tasa_finalizacion_resultado.append(tasa_finalizacion)\n",
    "    tiempo_medio_total = calcular_promedio(tiempos_medios_espera_resultado)\n",
    "    fraccion_sin_espera_total = calcular_promedio(fraccion_sin_espera_resultado)\n",
    "    tasa_finalizacion_total = calcular_promedio(tasa_finalizacion_resultado)\n",
    "    return tiempo_medio_total, fraccion_sin_espera_total, tasa_finalizacion_total"
   ]
  },
  {
   "cell_type": "code",
   "execution_count": 20,
   "metadata": {},
   "outputs": [
    {
     "name": "stdout",
     "output_type": "stream",
     "text": [
      "Tiempo medio de espera: 0.5390863753426424 segundos\n",
      "Fraccion de solicitudes sin esperar: 0.5954540999999999\n",
      "Tasa de finalizacion: 1.0000859109275324 solicitudes finalizadas por segundo\n"
     ]
    }
   ],
   "source": [
    "MEDIA_ARRIBOS = 1\n",
    "\n",
    "mostrar_resultado(simular(MEDIA_ARRIBOS, N_SIMULACIONES, MUESTRA, alternativa_1))"
   ]
  },
  {
   "cell_type": "code",
   "execution_count": 21,
   "metadata": {},
   "outputs": [
    {
     "name": "stdout",
     "output_type": "stream",
     "text": [
      "Tiempo medio de espera: 0.20036124773930744 segundos\n",
      "Fraccion de solicitudes sin esperar: 0.7980895999999998\n",
      "Tasa de finalizacion: 0.5000551180016598 solicitudes finalizadas por segundo\n"
     ]
    }
   ],
   "source": [
    "MEDIA_ARRIBOS = 2\n",
    "\n",
    "mostrar_resultado(simular(MEDIA_ARRIBOS, N_SIMULACIONES, MUESTRA, alternativa_1))"
   ]
  },
  {
   "cell_type": "code",
   "execution_count": 22,
   "metadata": {},
   "outputs": [
    {
     "name": "stdout",
     "output_type": "stream",
     "text": [
      "Tiempo medio de espera: 0.08930493735516226 segundos\n",
      "Fraccion de solicitudes sin esperar: 0.8990277\n",
      "Tasa de finalizacion: 0.24998896240985002 solicitudes finalizadas por segundo\n"
     ]
    }
   ],
   "source": [
    "MEDIA_ARRIBOS = 4\n",
    "\n",
    "mostrar_resultado(simular(MEDIA_ARRIBOS, N_SIMULACIONES, MUESTRA, alternativa_1))"
   ]
  },
  {
   "cell_type": "markdown",
   "metadata": {},
   "source": [
    "#### Alternativa 2\n",
    "Utilizar 1 base de datos central.\n",
    "En este caso la demora en resolver una solicitud sigue una distribución exponencial con 𝜇 = 0,8 𝑠𝑒𝑔𝑢𝑛𝑑𝑜"
   ]
  },
  {
   "cell_type": "code",
   "execution_count": 25,
   "metadata": {},
   "outputs": [],
   "source": [
    "def alternativa_2(media_arribos, solicitudes_procesadas):\n",
    "    tiempos_arribo = tiempos_de_arribo(media_arribos, solicitudes_procesadas)\n",
    "    tiempos_espera,tiempos_procesado = tiempos_en_base(tiempos_arribo, 0.8)\n",
    "    return tiempos_arribo, tiempos_procesado, tiempos_espera"
   ]
  },
  {
   "cell_type": "code",
   "execution_count": 26,
   "metadata": {},
   "outputs": [
    {
     "name": "stdout",
     "output_type": "stream",
     "text": [
      "Tiempo medio de espera: 3.1936877250632194 segundos\n",
      "Fraccion de solicitudes sin esperar: 0.20024400000000006\n",
      "Tasa de finalizacion: 0.9994393049753896 solicitudes finalizadas por segundo\n"
     ]
    }
   ],
   "source": [
    "MEDIA_ARRIBOS = 1\n",
    "\n",
    "mostrar_resultado(simular(MEDIA_ARRIBOS, N_SIMULACIONES, MUESTRA, alternativa_2))"
   ]
  },
  {
   "cell_type": "code",
   "execution_count": 27,
   "metadata": {},
   "outputs": [
    {
     "name": "stdout",
     "output_type": "stream",
     "text": [
      "Tiempo medio de espera: 0.5327471406618114 segundos\n",
      "Fraccion de solicitudes sin esperar: 0.6000401\n",
      "Tasa de finalizacion: 0.5000104982012297 solicitudes finalizadas por segundo\n"
     ]
    }
   ],
   "source": [
    "MEDIA_ARRIBOS = 2\n",
    "\n",
    "mostrar_resultado(simular(MEDIA_ARRIBOS, N_SIMULACIONES, MUESTRA, alternativa_2))"
   ]
  },
  {
   "cell_type": "code",
   "execution_count": 28,
   "metadata": {},
   "outputs": [
    {
     "name": "stdout",
     "output_type": "stream",
     "text": [
      "Tiempo medio de espera: 0.20026830737255819 segundos\n",
      "Fraccion de solicitudes sin esperar: 0.7998767999999998\n",
      "Tasa de finalizacion: 0.2499652652882094 solicitudes finalizadas por segundo\n"
     ]
    }
   ],
   "source": [
    "MEDIA_ARRIBOS = 4\n",
    "\n",
    "mostrar_resultado(simular(MEDIA_ARRIBOS, N_SIMULACIONES, MUESTRA, alternativa_2))"
   ]
  },
  {
   "cell_type": "markdown",
   "metadata": {},
   "source": [
    "#### Conclusiones\n",
    "\n",
    "Para concluir cuál alternativa es la que se recomienda se deben observar los distintos valores obtenidos:\n",
    "- Tiempo medio de espera: la alternativa 1 tiene menor tiempo medio de espera para todas las medias propuestas\n",
    "- Fracción de solicitudes sin esperar: la alternativa 1 tiene mayor fracción de solicitudes sin esperar para todas las medias propuestas\n",
    "- Tasa de finalización: son similares en ambas alternativas\n",
    "\n",
    "En conclusión, se recomienda la alternativa 1 ya que se obtuvieron mejores resultados en los distintos valores analizados. "
   ]
  },
  {
   "cell_type": "markdown",
   "metadata": {},
   "source": [
    "## Ejercicio 4"
   ]
  },
  {
   "cell_type": "markdown",
   "metadata": {},
   "source": [
    "Implementar las 2 alternativas del Ejercicio 1 utilizando SimPy.\n",
    "\n",
    "Comparar los resultados obtenidos con el ejercicio 1."
   ]
  },
  {
   "cell_type": "code",
   "execution_count": 29,
   "metadata": {},
   "outputs": [],
   "source": [
    "def request(env, counter, media_base, tiempos_espera, tiempos_procesado):\n",
    "    tiempo_arribo = env.now\n",
    "\n",
    "    with counter.request() as req:\n",
    "        yield req\n",
    "        tiempo_actual = env.now\n",
    "        tiempo_espera = tiempo_actual - tiempo_arribo\n",
    "        t_base = np.random.exponential(media_base)\n",
    "        yield env.timeout(t_base)\n",
    "        tiempos_espera.append(tiempo_espera)\n",
    "        tiempos_procesado.append(tiempo_actual + tiempo_espera + t_base)"
   ]
  },
  {
   "cell_type": "markdown",
   "metadata": {},
   "source": [
    "#### Alternativa 1\n",
    "Se utilizan 2 bases de datos distribuidas.\n",
    "Con probabilidad 𝑝 = 0.6 las solicitudes son atendidas por la base A y con probabilidad 𝑞 = 1 − 𝑝 son atendidos por la\n",
    "base de datos B.\n",
    "El tiempo que demora cada base de datos en atender una solicitud sigue una distribución exponencial con medias,\n",
    "𝜇1 = 0,7 𝑠𝑒𝑔 y 𝜇2 = 0,95 𝑠𝑒𝑔 respectivamente."
   ]
  },
  {
   "cell_type": "code",
   "execution_count": 31,
   "metadata": {},
   "outputs": [],
   "source": [
    "def source_1(env, muestra, media_arribos, proba_a, counter_a, counter_b, media_base_a, media_base_b, tiempos_espera, tiempos_procesado):\n",
    "    for i in range(muestra):\n",
    "        bdd = np.random.uniform()\n",
    "        if bdd < proba_a:\n",
    "            r = request(env, counter_a, media_base_a, tiempos_espera, tiempos_procesado)\n",
    "        else:\n",
    "            r = request(env, counter_b, media_base_b, tiempos_espera, tiempos_procesado)\n",
    "        env.process(r)\n",
    "        t = np.random.exponential(media_arribos)\n",
    "        yield env.timeout(t)\n",
    "        \n",
    "def alternativa_1(muestra, media_arribos, proba_a, media_base_a, media_base_b, n_simulaciones):\n",
    "    tiempos_espera_medios_resultado = []\n",
    "    fraccion_sin_espera_resultado = []\n",
    "    taza_finalizacion_resultado = []\n",
    "    \n",
    "    for _ in range(n_simulaciones):\n",
    "        tiempos_espera = []\n",
    "        tiempos_procesado = []\n",
    "        env = simpy.Environment()\n",
    "        counter_a = simpy.Resource(env, capacity=1)\n",
    "        counter_b = simpy.Resource(env, capacity=1)\n",
    "        env.process(source_1(env, muestra, media_arribos, proba_a, counter_a, counter_b, media_base_a, media_base_b, tiempos_espera, tiempos_procesado))\n",
    "        env.run()        \n",
    "        \n",
    "        sin_espera = list(filter(lambda x: x==0, tiempos_espera))\n",
    "        fraccion_sin_espera = len(sin_espera) / muestra\n",
    "        fraccion_sin_espera_resultado.append(fraccion_sin_espera)\n",
    "        \n",
    "        taza_finalizacion = muestra / max(tiempos_procesado)\n",
    "        taza_finalizacion_resultado.append(taza_finalizacion)\n",
    "        \n",
    "        tiempos_espera_medios_resultado.append(calcular_promedio(tiempos_espera))\n",
    "    return tiempos_espera_medios_resultado, fraccion_sin_espera_resultado, taza_finalizacion_resultado"
   ]
  },
  {
   "cell_type": "code",
   "execution_count": 40,
   "metadata": {},
   "outputs": [],
   "source": [
    "def simular_alternativa_1(muestra, media_arribos, proba_base_a, media_base_a, media_base_b, n_simulaciones):\n",
    "    tiempos_espera_medios, fraccion_sin_espera_resultado, taza_finalizacion_resultado = alternativa_1(muestra, media_arribos, proba_base_a, media_base_a, media_base_b, n_simulaciones)\n",
    "    tiempo_medio_espera = calcular_promedio(tiempos_espera_medios)\n",
    "    fraccion_sin_espera = calcular_promedio(fraccion_sin_espera_resultado)\n",
    "    taza_finalizacion = calcular_promedio(taza_finalizacion_resultado)\n",
    "    return tiempo_medio_espera, fraccion_sin_espera, taza_finalizacion"
   ]
  },
  {
   "cell_type": "code",
   "execution_count": 36,
   "metadata": {},
   "outputs": [
    {
     "name": "stdout",
     "output_type": "stream",
     "text": [
      "Tiempo medio de espera: 0.5372692268373614 segundos\n",
      "Fraccion de solicitudes sin esperar: 0.5958693\n",
      "Tasa de finalizacion: 1.0002647641165139 solicitudes finalizadas por segundo\n"
     ]
    }
   ],
   "source": [
    "MEDIA_ARRIBOS = 1\n",
    "\n",
    "mostrar_resultado(simular_alternativa_1(MUESTRA, MEDIA_ARRIBOS, PROBA_BASE_A, MEDIA_BASE_A, MEDIA_BASE_B, N_SIMULACIONES))"
   ]
  },
  {
   "cell_type": "code",
   "execution_count": 37,
   "metadata": {},
   "outputs": [
    {
     "name": "stdout",
     "output_type": "stream",
     "text": [
      "Tiempo medio de espera: 0.20065847230400766 segundos\n",
      "Fraccion de solicitudes sin esperar: 0.7979780000000001\n",
      "Tasa de finalizacion: 0.5001091709594859 solicitudes finalizadas por segundo\n"
     ]
    }
   ],
   "source": [
    "MEDIA_ARRIBOS = 2\n",
    "\n",
    "mostrar_resultado(simular_alternativa_1(MUESTRA, MEDIA_ARRIBOS, PROBA_BASE_A, MEDIA_BASE_A, MEDIA_BASE_B, N_SIMULACIONES))"
   ]
  },
  {
   "cell_type": "code",
   "execution_count": 38,
   "metadata": {},
   "outputs": [
    {
     "name": "stdout",
     "output_type": "stream",
     "text": [
      "Tiempo medio de espera: 0.0891406066063754 segundos\n",
      "Fraccion de solicitudes sin esperar: 0.8989565999999999\n",
      "Tasa de finalizacion: 0.25004003450449724 solicitudes finalizadas por segundo\n"
     ]
    }
   ],
   "source": [
    "MEDIA_ARRIBOS = 4\n",
    "\n",
    "mostrar_resultado(simular_alternativa_1(MUESTRA, MEDIA_ARRIBOS, PROBA_BASE_A, MEDIA_BASE_A, MEDIA_BASE_B, N_SIMULACIONES))"
   ]
  },
  {
   "cell_type": "markdown",
   "metadata": {},
   "source": [
    "#### Alternativa 2\n",
    "\n",
    "Utilizar 1 base de datos central. En este caso la demora en resolver una solicitud sigue una distribución exponencial con 𝜇 = 0,8 𝑠𝑒𝑔𝑢𝑛𝑑𝑜"
   ]
  },
  {
   "cell_type": "code",
   "execution_count": 39,
   "metadata": {},
   "outputs": [],
   "source": [
    "def source_2(env, muestra, media_arribos, counter, media_base, tiempos_espera, tiempos_procesado):\n",
    "    for i in range(muestra):\n",
    "        r = request(env, counter, media_base, tiempos_espera, tiempos_procesado)\n",
    "        env.process(r)\n",
    "        t = np.random.exponential(media_arribos)\n",
    "        yield env.timeout(t)\n",
    "        \n",
    "def alternativa_2(muestra, media_arribos, media_base, n_simulaciones):\n",
    "    tiempos_espera_medios_resultado = []\n",
    "    fraccion_sin_espera_resultado = []\n",
    "    taza_finalizacion_resultado = []\n",
    "    \n",
    "    for _ in range(n_simulaciones):\n",
    "        tiempos_espera = []\n",
    "        tiempos_procesado = []\n",
    "        env = simpy.Environment()\n",
    "        counter = simpy.Resource(env, capacity=1)\n",
    "        env.process(source_2(env, muestra, media_arribos, counter, media_base, tiempos_espera, tiempos_procesado))\n",
    "        env.run()        \n",
    "        \n",
    "        sin_espera = list(filter(lambda x: x==0, tiempos_espera))\n",
    "        fraccion_sin_espera = len(sin_espera) / muestra\n",
    "        fraccion_sin_espera_resultado.append(fraccion_sin_espera)\n",
    "        \n",
    "        taza_finalizacion = muestra / max(tiempos_procesado)\n",
    "        taza_finalizacion_resultado.append(taza_finalizacion)\n",
    "        \n",
    "        tiempos_espera_medios_resultado.append(calcular_promedio(tiempos_espera))\n",
    "    return tiempos_espera_medios_resultado, fraccion_sin_espera_resultado, taza_finalizacion_resultado"
   ]
  },
  {
   "cell_type": "code",
   "execution_count": 41,
   "metadata": {},
   "outputs": [],
   "source": [
    "def simular_alternativa_2(muestra, media_arribos, media_base, n_simulaciones):\n",
    "    tiempos_espera_medios, fraccion_sin_espera_resultado, taza_finalizacion_resultado = alternativa_2(muestra, media_arribos, media_base, n_simulaciones)\n",
    "    tiempo_medio_espera = calcular_promedio(tiempos_espera_medios)\n",
    "    fraccion_sin_espera = calcular_promedio(fraccion_sin_espera_resultado)\n",
    "    taza_finalizacion = calcular_promedio(taza_finalizacion_resultado)\n",
    "    return tiempo_medio_espera, fraccion_sin_espera, taza_finalizacion"
   ]
  },
  {
   "cell_type": "code",
   "execution_count": 42,
   "metadata": {},
   "outputs": [
    {
     "name": "stdout",
     "output_type": "stream",
     "text": [
      "Tiempo medio de espera: 3.197403843277221 segundos\n",
      "Fraccion de solicitudes sin esperar: 0.20017799999999997\n",
      "Tasa de finalizacion: 0.9997496752377522 solicitudes finalizadas por segundo\n"
     ]
    }
   ],
   "source": [
    "MEDIA_ARRIBOS = 1\n",
    "\n",
    "mostrar_resultado(simular_alternativa_2(MUESTRA, MEDIA_ARRIBOS, MEDIA_BASE, N_SIMULACIONES))"
   ]
  },
  {
   "cell_type": "code",
   "execution_count": 43,
   "metadata": {},
   "outputs": [
    {
     "name": "stdout",
     "output_type": "stream",
     "text": [
      "Tiempo medio de espera: 0.5344411593051502 segundos\n",
      "Fraccion de solicitudes sin esperar: 0.5996451000000002\n",
      "Tasa de finalizacion: 0.5002928668003748 solicitudes finalizadas por segundo\n"
     ]
    }
   ],
   "source": [
    "MEDIA_ARRIBOS = 2\n",
    "\n",
    "mostrar_resultado(simular_alternativa_2(MUESTRA, MEDIA_ARRIBOS, MEDIA_BASE, N_SIMULACIONES))"
   ]
  },
  {
   "cell_type": "code",
   "execution_count": 44,
   "metadata": {},
   "outputs": [
    {
     "name": "stdout",
     "output_type": "stream",
     "text": [
      "Tiempo medio de espera: 0.2001677007494556 segundos\n",
      "Fraccion de solicitudes sin esperar: 0.7999754\n",
      "Tasa de finalizacion: 0.25004058959819725 solicitudes finalizadas por segundo\n"
     ]
    }
   ],
   "source": [
    "MEDIA_ARRIBOS = 4\n",
    "\n",
    "mostrar_resultado(simular_alternativa_2(MUESTRA, MEDIA_ARRIBOS, MEDIA_BASE, N_SIMULACIONES))"
   ]
  },
  {
   "cell_type": "markdown",
   "metadata": {},
   "source": [
    "#### Conclusiones\n",
    "\n",
    "Se puede observar que los resultados para ambas alternativas son muy similares a los encontrados sin el uso de simpy. Por lo tanto, al igual que en el ejercicio 1 la alternativa menos costosa es la 1 por las mismas razones."
   ]
  }
 ],
 "metadata": {
  "kernelspec": {
   "display_name": "Python 3",
   "language": "python",
   "name": "python3"
  },
  "language_info": {
   "codemirror_mode": {
    "name": "ipython",
    "version": 3
   },
   "file_extension": ".py",
   "mimetype": "text/x-python",
   "name": "python",
   "nbconvert_exporter": "python",
   "pygments_lexer": "ipython3",
   "version": "3.8.5"
  }
 },
 "nbformat": 4,
 "nbformat_minor": 4
}
