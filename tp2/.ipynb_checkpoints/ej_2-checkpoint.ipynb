{
 "cells": [
  {
   "cell_type": "code",
   "execution_count": 1,
   "id": "2c66a6a5-9a19-4ea9-9bfe-e2f750ad074a",
   "metadata": {},
   "outputs": [],
   "source": [
    "import numpy as np"
   ]
  },
  {
   "cell_type": "markdown",
   "id": "17fdd73f-46db-4752-863c-27d02d9f886e",
   "metadata": {},
   "source": [
    "Replicar los resultados del trabajo “A Markov Chain Model for Covid-19 Survival Analysis”.\n",
    "\n",
    "1. Implementar las soluciones planteadas en el trabajoen las secciones `2.0 A Simple Markov Chain` y `3.0 A More Complex Markov Chain`.\n",
    "2. Realizarlas visualizaciones que consideren necesarias para mostrar los resultados.\n",
    "3. Para la cadena de Markov propuesta encada sección mostrar la evolución de 10 individuos a lo largo del tiempo (100 días).\n",
    "4. Para una población de 10.000 individuos, grafique las curvas de evolución de cada uno de los estados aplicando las cadenas de Markov propuestas por el trabajo."
   ]
  },
  {
   "cell_type": "markdown",
   "id": "b214dadb-a653-451a-bba6-2451dccf4777",
   "metadata": {},
   "source": [
    "### A Simple Markov Chain"
   ]
  },
  {
   "cell_type": "code",
   "execution_count": 2,
   "id": "db5a1dd1-7b88-4a25-9ebe-0657f4e8a6d8",
   "metadata": {},
   "outputs": [],
   "source": [
    "m_efficient = np.array([\n",
    "    [0.95, 0.05, 0], \n",
    "    [0.1, 0.7, 0.2],\n",
    "    [0, 0.3, 0.7],\n",
    "])\n",
    "\n",
    "m_inefficient = np.array([\n",
    "    [0.9, 0.1, 0], \n",
    "    [0.12, 0.7, 0.18],\n",
    "    [0, 0.2, 0.8],\n",
    "])"
   ]
  },
  {
   "cell_type": "code",
   "execution_count": 3,
   "id": "cd31775e-cad9-4969-87a3-9b71f04d2ccf",
   "metadata": {},
   "outputs": [],
   "source": [
    "m_pow_efficient = np.linalg.matrix_power(m_efficient, 1000)\n",
    "m_pow_inefficient = np.linalg.matrix_power(m_inefficient, 1000)"
   ]
  },
  {
   "cell_type": "code",
   "execution_count": 4,
   "id": "6f7f0577-f2a4-4c0f-88f0-3fae8eec2542",
   "metadata": {},
   "outputs": [
    {
     "data": {
      "text/plain": [
       "array([[0.54545455, 0.27272727, 0.18181818],\n",
       "       [0.54545455, 0.27272727, 0.18181818],\n",
       "       [0.54545455, 0.27272727, 0.18181818]])"
      ]
     },
     "execution_count": 4,
     "metadata": {},
     "output_type": "execute_result"
    }
   ],
   "source": [
    "m_pow_efficient"
   ]
  },
  {
   "cell_type": "code",
   "execution_count": 5,
   "id": "a59c8c6b-2f82-4f49-a776-a63c67869a1e",
   "metadata": {},
   "outputs": [
    {
     "data": {
      "text/plain": [
       "array([[0.38709677, 0.32258065, 0.29032258],\n",
       "       [0.38709677, 0.32258065, 0.29032258],\n",
       "       [0.38709677, 0.32258065, 0.29032258]])"
      ]
     },
     "execution_count": 5,
     "metadata": {},
     "output_type": "execute_result"
    }
   ],
   "source": [
    "m_pow_inefficient"
   ]
  },
  {
   "cell_type": "markdown",
   "id": "b9e93e91-ce33-4b9d-838e-9685602a1a51",
   "metadata": {},
   "source": [
    "### A More Complex Markov Chain"
   ]
  },
  {
   "cell_type": "code",
   "execution_count": 6,
   "id": "dd7580ef-7b74-4887-a6bd-83747f640a0d",
   "metadata": {},
   "outputs": [],
   "source": [
    "p_complex = np.array([\n",
    "    [0.93, 0.07, 0.0, 0.0, 0.0], \n",
    "    [0.05, 0.8, 0.1, 0.05, 0.0],\n",
    "    [0.0, 0.15, 0.8, 0.05, 0.0],\n",
    "    [0.0, 0.0, 0.05, 0.8, 0.15],\n",
    "    [0.0, 0.0, 0.0, 0.0, 1.0]\n",
    "])\n",
    "\n",
    "p_complex_reduced = np.array([\n",
    "    [0.93, 0.07, 0.0, 0.0], \n",
    "    [0.05, 0.8, 0.1, 0.05],\n",
    "    [0.0, 0.15, 0.8, 0.05],\n",
    "    [0.0, 0.0, 0.05, 0.8],\n",
    "])"
   ]
  },
  {
   "cell_type": "code",
   "execution_count": 7,
   "id": "5dd58824-0ea6-4fde-a341-0e960dd8e7d8",
   "metadata": {},
   "outputs": [],
   "source": [
    "states = [\"Healthy\", \"Infected\", \"Hospitalized\", \"Ventilator\", \"Dead\"]"
   ]
  },
  {
   "cell_type": "code",
   "execution_count": 8,
   "id": "0c9b7057-0029-49b4-ad30-3f6b2bc749ca",
   "metadata": {},
   "outputs": [
    {
     "name": "stdout",
     "output_type": "stream",
     "text": [
      "Luego de 2 dias:\n",
      "--> Prob. de morir partiendo desde 'Healthy' = 0.0\n",
      "--> Prob. de morir partiendo desde 'Infected' = 0.0075\n",
      "--> Prob. de morir partiendo desde 'Hospitalized' = 0.0075\n",
      "--> Prob. de morir partiendo desde 'Ventilator' = 0.27\n",
      "Luego de 4 dias:\n",
      "--> Prob. de morir partiendo desde 'Healthy' = 0.0019057500000000003\n",
      "--> Prob. de morir partiendo desde 'Infected' = 0.0366075\n",
      "--> Prob. de morir partiendo desde 'Hospitalized' = 0.03785625000000001\n",
      "--> Prob. de morir partiendo desde 'Ventilator' = 0.4441312500000001\n",
      "Luego de 8 dias:\n",
      "--> Prob. de morir partiendo desde 'Healthy' = 0.018546686137507505\n",
      "--> Prob. de morir partiendo desde 'Infected' = 0.11850946319145003\n",
      "--> Prob. de morir partiendo desde 'Hospitalized' = 0.12723774254568754\n",
      "--> Prob. de morir partiendo desde 'Ventilator' = 0.6359090870334376\n",
      "Luego de 16 dias:\n",
      "--> Prob. de morir partiendo desde 'Healthy' = 0.09866836765994028\n",
      "--> Prob. de morir partiendo desde 'Infected' = 0.28262544861109024\n",
      "--> Prob. de morir partiendo desde 'Hospitalized' = 0.3083756265418608\n",
      "--> Prob. de morir partiendo desde 'Ventilator' = 0.7797182137389607\n"
     ]
    }
   ],
   "source": [
    "for days in [2, 4, 8, 16]:\n",
    "    print(\"Luego de {} dias:\".format(days))\n",
    "    p_pow = np.linalg.matrix_power(p_complex, days)\n",
    "    for i, s in enumerate(states[:4]):\n",
    "        print(\"--> Prob. de morir partiendo desde '{}' = {}\".format(s, p_pow[i][4]))"
   ]
  },
  {
   "cell_type": "markdown",
   "id": "2222a3f4-c4f1-4679-b7d0-56ab04a10648",
   "metadata": {},
   "source": [
    "![](./assets/Ej2-days_till_death.png)"
   ]
  },
  {
   "cell_type": "code",
   "execution_count": 9,
   "id": "c61d2155-76a4-4df5-8aa4-76e0c70bac7b",
   "metadata": {},
   "outputs": [
    {
     "data": {
      "text/plain": [
       "array([[8.05351086e-11, 7.69484028e-11, 5.36127097e-11, 3.67212577e-11,\n",
       "        1.00000000e+00],\n",
       "       [5.49631448e-11, 5.25153101e-11, 3.65892985e-11, 2.50613160e-11,\n",
       "        1.00000000e+00],\n",
       "       [5.03601155e-11, 4.81172810e-11, 3.35250340e-11, 2.29624919e-11,\n",
       "        1.00000000e+00],\n",
       "       [1.41641469e-11, 1.35333335e-11, 9.42915843e-12, 6.45836703e-12,\n",
       "        1.00000000e+00],\n",
       "       [0.00000000e+00, 0.00000000e+00, 0.00000000e+00, 0.00000000e+00,\n",
       "        1.00000000e+00]])"
      ]
     },
     "execution_count": 9,
     "metadata": {},
     "output_type": "execute_result"
    }
   ],
   "source": [
    "np.linalg.matrix_power(p_complex, 1000)"
   ]
  },
  {
   "cell_type": "code",
   "execution_count": 10,
   "id": "4ec4ad75-bcd0-48b0-9693-5847de4a70b9",
   "metadata": {},
   "outputs": [
    {
     "name": "stdout",
     "output_type": "stream",
     "text": [
      "[('Healthy', 'Healthy', 0.93), ('Healthy', 'Infected', 0.07), ('Infected', 'Healthy', 0.05), ('Infected', 'Infected', 0.8), ('Infected', 'Hospital', 0.1), ('Infected', 'Ventilat', 0.05), ('Hospital', 'Infected', 0.15), ('Hospital', 'Hospital', 0.8), ('Hospital', 'Ventilat', 0.05), ('Ventilat', 'Hospital', 0.05), ('Ventilat', 'Ventilat', 0.8), ('Ventilat', 'Dead', 0.15), ('Dead', 'Dead', 1.0)]\n"
     ]
    }
   ],
   "source": [
    "edges = []\n",
    "for i, s in enumerate(states):\n",
    "    for j, t in enumerate(states):\n",
    "        p = p_complex[i][j]\n",
    "        if p!=0.0: \n",
    "            edges.append((s[:8], t[:8], p))\n",
    "\n",
    "print(edges)"
   ]
  },
  {
   "cell_type": "code",
   "execution_count": 11,
   "id": "d1364a35-c51a-4127-8eab-e2713a2eebd0",
   "metadata": {},
   "outputs": [
    {
     "data": {
      "text/plain": [
       "{('Healthy', 'Healthy'): 0.93,\n",
       " ('Healthy', 'Infected'): 0.07,\n",
       " ('Infected', 'Healthy'): 0.05,\n",
       " ('Infected', 'Infected'): 0.8,\n",
       " ('Infected', 'Hospital'): 0.1,\n",
       " ('Infected', 'Ventilat'): 0.05,\n",
       " ('Hospital', 'Infected'): 0.15,\n",
       " ('Hospital', 'Hospital'): 0.8,\n",
       " ('Hospital', 'Ventilat'): 0.05,\n",
       " ('Ventilat', 'Hospital'): 0.05,\n",
       " ('Ventilat', 'Ventilat'): 0.8,\n",
       " ('Ventilat', 'Dead'): 0.15,\n",
       " ('Dead', 'Dead'): 1.0}"
      ]
     },
     "execution_count": 11,
     "metadata": {},
     "output_type": "execute_result"
    }
   ],
   "source": [
    "{(x[0],x[1]):x[2] for x in edges}"
   ]
  },
  {
   "cell_type": "code",
   "execution_count": 15,
   "id": "4eeaa388-6b34-467e-a76f-97bd9e67e275",
   "metadata": {},
   "outputs": [],
   "source": [
    "import networkx as nx\n",
    "import numpy as np\n",
    "import matplotlib.pyplot as plt\n",
    "from networkx.drawing.nx_agraph import to_agraph \n",
    "\n",
    "G = nx.DiGraph()\n",
    "G.add_weighted_edges_from(edges)\n",
    "\n",
    "edgelabels={(x[0],x[1]):x[2] for x in edges}\n",
    "\n",
    "# plt.figure(dpi=125)\n",
    "# pos = nx.circular_layout(G)\n",
    "# nx.draw_networkx_nodes(G, pos, node_size=1200, node_shape='o', node_color='#ff9900')\n",
    "# nx.draw_networkx_edges(G, pos, arrows=True, arrowsize=10, connectionstyle='arc3,rad=0.2', min_source_margin=20, min_target_margin=20)\n",
    "# nx.draw_networkx_labels(G, pos, font_size=8)\n",
    "# nx.draw_networkx_edge_labels(G, pos, edge_labels=edgelabels)\n",
    "# plt.show()\n",
    "\n",
    "A = to_agraph(G)\n",
    "A.layout('dot')\n",
    "A.draw('ej_2_complex_fsm.png')"
   ]
  },
  {
   "cell_type": "code",
   "execution_count": null,
   "id": "a4c67db7-d20d-4c70-bfb5-ed40ac6e5804",
   "metadata": {},
   "outputs": [],
   "source": []
  },
  {
   "cell_type": "code",
   "execution_count": null,
   "id": "85f24974-14a5-4b10-a270-f0d79538b7cb",
   "metadata": {},
   "outputs": [],
   "source": []
  },
  {
   "cell_type": "code",
   "execution_count": null,
   "id": "f14ff568-e63f-4e9e-9092-2c7f90598332",
   "metadata": {},
   "outputs": [],
   "source": []
  }
 ],
 "metadata": {
  "kernelspec": {
   "display_name": "Python 3",
   "language": "python",
   "name": "python3"
  },
  "language_info": {
   "codemirror_mode": {
    "name": "ipython",
    "version": 3
   },
   "file_extension": ".py",
   "mimetype": "text/x-python",
   "name": "python",
   "nbconvert_exporter": "python",
   "pygments_lexer": "ipython3",
   "version": "3.8.5"
  }
 },
 "nbformat": 4,
 "nbformat_minor": 5
}
