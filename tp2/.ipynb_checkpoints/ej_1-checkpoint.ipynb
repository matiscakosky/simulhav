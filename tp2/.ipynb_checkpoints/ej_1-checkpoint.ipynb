{
 "cells": [
  {
   "cell_type": "markdown",
   "metadata": {},
   "source": [
    "# Trabajo Practico 2"
   ]
  },
  {
   "cell_type": "code",
   "execution_count": 5,
   "metadata": {},
   "outputs": [],
   "source": [
    "import numpy as np"
   ]
  },
  {
   "cell_type": "markdown",
   "metadata": {},
   "source": [
    "## Ejercicio 1"
   ]
  },
  {
   "cell_type": "markdown",
   "metadata": {},
   "source": [
    "Simule el siguiente problema.\n",
    "Se está diseñando un web service, el cual cada vez que es invocado consulta a una base de datos.\n",
    "El tiempo que transcurre entre cada llamada al servicio se puede modelar según una distribución exponencial con media 𝜇\n",
    "Considerar 𝜇 = 1, 2 𝑦 4 𝑠𝑒𝑔𝑢𝑛𝑑𝑜𝑠"
   ]
  },
  {
   "cell_type": "markdown",
   "metadata": {},
   "source": [
    "Realizar 100 simulaciones de cada modelo, con 100000 solicitudes procesadas, y determinar:\n",
    "- El tiempo medio de espera entre que la solicitud llega y puede ser procesada (suponer que ninguna conexión se\n",
    "cae por timeout).\n",
    "- La fracción de las solicitudes que no esperaron para ser procesadas.\n",
    "- La tasa de finalización de consultas (consultas finalizadas por segundo)\n",
    "- ¿Qué solución le recomienda? Justifique"
   ]
  },
  {
   "cell_type": "code",
   "execution_count": 7,
   "metadata": {},
   "outputs": [],
   "source": [
    "def tiempos_de_arribo(media, cantidad_ensayos):\n",
    "    return np.random.exponential(media, cantidad_ensayos)"
   ]
  },
  {
   "cell_type": "markdown",
   "metadata": {},
   "source": [
    "#### Alternativa 1\n",
    "Se utilizan 2 bases de datos distribuidas.\n",
    "Con probabilidad 𝑝 = 0.6 las solicitudes son atendidas por la base A y con probabilidad 𝑞 = 1 − 𝑝 son atendidos por la\n",
    "base de datos B.\n",
    "El tiempo que demora cada base de datos en atender una solicitud sigue una distribución exponencial con medias,\n",
    "𝜇1 = 0,7 𝑠𝑒𝑔 y 𝜇2 = 0,95 𝑠𝑒𝑔 respectivamente."
   ]
  },
  {
   "cell_type": "code",
   "execution_count": 8,
   "metadata": {},
   "outputs": [],
   "source": [
    "def alternativa_1(media_arribos, solicitudes_procesadas):\n",
    "    tiempos_arribo = tiempos_de_arribo(media_arribos, solicitudes_procesadas)\n",
    "    proba_a = 0.6\n",
    "    tiempos_procesado = []\n",
    "    for t in tiempos_arribo:\n",
    "        bdd = np.random.uniform()\n",
    "        t_i = t\n",
    "        if bdd < proba_a:\n",
    "            t_a = np.random.exponential(0.7)\n",
    "            t_i += t_a\n",
    "        else:\n",
    "            t_b = np.random.exponential(0.95)\n",
    "            t_i += t_b\n",
    "        tiempos_procesado.append(t_i)\n",
    "    return tiempos_arribo, tiempos_procesado\n",
    "        "
   ]
  },
  {
   "cell_type": "code",
   "execution_count": 9,
   "metadata": {},
   "outputs": [],
   "source": [
    "tiempos_arribo, tiempos_procesado = alternativa_1(1, 100000)"
   ]
  },
  {
   "cell_type": "code",
   "execution_count": null,
   "metadata": {},
   "outputs": [],
   "source": []
  }
 ],
 "metadata": {
  "kernelspec": {
   "display_name": "Python 3",
   "language": "python",
   "name": "python3"
  },
  "language_info": {
   "codemirror_mode": {
    "name": "ipython",
    "version": 3
   },
   "file_extension": ".py",
   "mimetype": "text/x-python",
   "name": "python",
   "nbconvert_exporter": "python",
   "pygments_lexer": "ipython3",
   "version": "3.7.4"
  }
 },
 "nbformat": 4,
 "nbformat_minor": 4
}
