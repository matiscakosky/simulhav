{
 "cells": [
  {
   "cell_type": "markdown",
   "metadata": {},
   "source": [
    "# Trabajo Practico 2"
   ]
  },
  {
   "cell_type": "code",
   "execution_count": 5,
   "metadata": {},
   "outputs": [],
   "source": [
    "import numpy as np"
   ]
  },
  {
   "cell_type": "markdown",
   "metadata": {},
   "source": [
    "## Ejercicio 1"
   ]
  },
  {
   "cell_type": "markdown",
   "metadata": {},
   "source": [
    "Simule el siguiente problema.\n",
    "Se está diseñando un web service, el cual cada vez que es invocado consulta a una base de datos.\n",
    "El tiempo que transcurre entre cada llamada al servicio se puede modelar según una distribución exponencial con media 𝜇\n",
    "Considerar 𝜇 = 1, 2 𝑦 4 𝑠𝑒𝑔𝑢𝑛𝑑𝑜𝑠"
   ]
  },
  {
   "cell_type": "markdown",
   "metadata": {},
   "source": [
    "Realizar 100 simulaciones de cada modelo, con 100000 solicitudes procesadas, y determinar:\n",
    "- El tiempo medio de espera entre que la solicitud llega y puede ser procesada (suponer que ninguna conexión se\n",
    "cae por timeout).\n",
    "- La fracción de las solicitudes que no esperaron para ser procesadas.\n",
    "- La tasa de finalización de consultas (consultas finalizadas por segundo)\n",
    "- ¿Qué solución le recomienda? Justifique"
   ]
  },
  {
   "cell_type": "code",
   "execution_count": 63,
   "metadata": {},
   "outputs": [],
   "source": [
    "def tiempos_de_arribo(media, cantidad_ensayos):\n",
    "    z = np.random.exponential(media, cantidad_ensayos)\n",
    "    return np.concatenate(([0], np.cumsum(z)), axis=None)"
   ]
  },
  {
   "cell_type": "markdown",
   "metadata": {},
   "source": [
    "#### Alternativa 1\n",
    "Se utilizan 2 bases de datos distribuidas.\n",
    "Con probabilidad 𝑝 = 0.6 las solicitudes son atendidas por la base A y con probabilidad 𝑞 = 1 − 𝑝 son atendidos por la\n",
    "base de datos B.\n",
    "El tiempo que demora cada base de datos en atender una solicitud sigue una distribución exponencial con medias,\n",
    "𝜇1 = 0,7 𝑠𝑒𝑔 y 𝜇2 = 0,95 𝑠𝑒𝑔 respectivamente."
   ]
  },
  {
   "cell_type": "code",
   "execution_count": 64,
   "metadata": {},
   "outputs": [],
   "source": [
    "def tiempos_en_base(arribos, media):\n",
    "    t_actual = 0\n",
    "    tiempos_espera = []\n",
    "    tiempos_procesado = []\n",
    "    for t_arribo in arribos:\n",
    "        t_base = np.random.exponential(media)\n",
    "        if t_arribo < t_actual:\n",
    "            t_espera = t_actual - t_arribo\n",
    "            tiempos_espera.append(t_espera)\n",
    "            t_procesado = t_arribo + t_espera + t_base\n",
    "            tiempos_procesado.append(t_procesado)\n",
    "            t_actual += t_base\n",
    "        else:\n",
    "            t_espera = 0\n",
    "            tiempos_espera.append(t_espera)\n",
    "            t_procesado = t_espera + t_base\n",
    "            tiempos_procesado.append(t_procesado)\n",
    "            t_actual = t_arribo + t_base\n",
    "    return tiempos_espera, tiempos_procesado"
   ]
  },
  {
   "cell_type": "code",
   "execution_count": 65,
   "metadata": {},
   "outputs": [],
   "source": [
    "def alternativa_1(media_arribos, solicitudes_procesadas):\n",
    "    tiempos_arribo = tiempos_de_arribo(media_arribos, solicitudes_procesadas)\n",
    "    proba_a = 0.6\n",
    "    tiempos_a = []\n",
    "    tiempos_b = []\n",
    "    for t in tiempos_arribo:\n",
    "        bdd = np.random.uniform()\n",
    "        t_p = t\n",
    "        t_e = 0\n",
    "        if bdd < proba_a:\n",
    "            tiempos_a.append(t)\n",
    "        else:\n",
    "            tiempos_b.append(t)\n",
    "    tiempos_espera_a,tiempos_procesado_a = tiempos_en_base(tiempos_a, 0.7)\n",
    "    tiempos_espera_b,tiempos_procesado_b = tiempos_en_base(tiempos_b, 0.95)\n",
    "    return tiempos_a + tiempos_b, tiempos_procesado_a + tiempos_procesado_b, tiempos_espera_a + tiempos_espera_b"
   ]
  },
  {
   "cell_type": "code",
   "execution_count": 66,
   "metadata": {},
   "outputs": [],
   "source": [
    "tiempos_arribo, tiempos_procesado, tiempos_espera = alternativa_1(4, 100000)"
   ]
  },
  {
   "cell_type": "code",
   "execution_count": 26,
   "metadata": {},
   "outputs": [],
   "source": [
    "tiempo_medio = sum(tiempos_espera)/len(tiempos_espera)"
   ]
  },
  {
   "cell_type": "code",
   "execution_count": 27,
   "metadata": {},
   "outputs": [
    {
     "data": {
      "text/plain": [
       "0.08756890505565972"
      ]
     },
     "execution_count": 27,
     "metadata": {},
     "output_type": "execute_result"
    }
   ],
   "source": [
    "tiempo_medio"
   ]
  },
  {
   "cell_type": "code",
   "execution_count": 82,
   "metadata": {},
   "outputs": [],
   "source": [
    "def simular(media_arribos, cantidad_simulaciones, muestra, alternativa):\n",
    "    tiempos_medios_espera_resultado = []\n",
    "    fraccion_sin_espera_resultado = []\n",
    "    tasa_finalizacion_resultado = []\n",
    "    for i in range(cantidad_simulaciones):\n",
    "        tiempos_arribo, tiempos_procesado, tiempos_espera = alternativa(media_arribos, muestra)\n",
    "        tiempos_medios_espera_resultado.append(sum(tiempos_espera)/muestra)\n",
    "        sin_espera = list(filter(lambda x: x==0, tiempos_espera))\n",
    "        fraccion_sin_espera = len(sin_espera) / muestra\n",
    "        fraccion_sin_espera_resultado.append(fraccion_sin_espera)\n",
    "        tasa_finalizacion = muestra / max(tiempos_procesado)\n",
    "        tasa_finalizacion_resultado.append(tasa_finalizacion)\n",
    "    tiempo_medio_total = sum(tiempos_medios_espera_resultado)/len(tiempos_medios_espera_resultado)\n",
    "    fraccion_sin_espera_total = sum(fraccion_sin_espera_resultado)/len(fraccion_sin_espera_resultado)\n",
    "    tasa_finalizacion_total = sum(tasa_finalizacion_resultado)/len(tasa_finalizacion_resultado)\n",
    "    return tiempo_medio_total, fraccion_sin_espera_total, tasa_finalizacion_total"
   ]
  },
  {
   "cell_type": "code",
   "execution_count": 83,
   "metadata": {},
   "outputs": [],
   "source": [
    "def mostrar_resultado(resultado):\n",
    "    tiempo_medio_espera, fraccion_sin_espera, tasa_finalizacion = resultado\n",
    "    print(\"Tiempo medio de espera: {} segundos\".format(tiempo_medio_espera))\n",
    "    print(\"Fraccion de solicitudes sin esperar: {}\".format(fraccion_sin_espera))\n",
    "    print(\"Tasa de finalizacion: {} solicitudes finalizadas por segundo\".format(tasa_finalizacion))"
   ]
  },
  {
   "cell_type": "code",
   "execution_count": 84,
   "metadata": {},
   "outputs": [
    {
     "name": "stdout",
     "output_type": "stream",
     "text": [
      "Tiempo medio de espera: 0.0892841631057477 segundos\n",
      "Fraccion de solicitudes sin esperar: 0.8988531000000002\n",
      "Tasa de finalizacion: 0.24990174994915684 solicitudes finalizadas por segundo\n"
     ]
    }
   ],
   "source": [
    "mostrar_resultado(simular(4, 100, 100000, alternativa_1))"
   ]
  },
  {
   "cell_type": "code",
   "execution_count": 85,
   "metadata": {},
   "outputs": [
    {
     "name": "stdout",
     "output_type": "stream",
     "text": [
      "Tiempo medio de espera: 0.20023391656873377 segundos\n",
      "Fraccion de solicitudes sin esperar: 0.7982427000000001\n",
      "Tasa de finalizacion: 0.49975768117888014 solicitudes finalizadas por segundo\n"
     ]
    }
   ],
   "source": [
    "mostrar_resultado(simular(2, 100, 100000, alternativa_1))"
   ]
  },
  {
   "cell_type": "code",
   "execution_count": 86,
   "metadata": {},
   "outputs": [
    {
     "name": "stdout",
     "output_type": "stream",
     "text": [
      "Tiempo medio de espera: 0.536807224366776 segundos\n",
      "Fraccion de solicitudes sin esperar: 0.5960978\n",
      "Tasa de finalizacion: 0.9999837397968336 solicitudes finalizadas por segundo\n"
     ]
    }
   ],
   "source": [
    "mostrar_resultado(simular(1, 100, 100000, alternativa_1))"
   ]
  },
  {
   "cell_type": "markdown",
   "metadata": {},
   "source": [
    "#### Alternativa 2\n",
    "Utilizar 1 base de datos central.\n",
    "En este caso la demora en resolver una solicitud sigue una distribución exponencial con 𝜇 = 0,8 𝑠𝑒𝑔𝑢𝑛𝑑𝑜"
   ]
  },
  {
   "cell_type": "code",
   "execution_count": 88,
   "metadata": {},
   "outputs": [],
   "source": [
    "def alternativa_2(media_arribos, solicitudes_procesadas):\n",
    "    tiempos_arribo = tiempos_de_arribo(media_arribos, solicitudes_procesadas)\n",
    "    tiempos_espera,tiempos_procesado = tiempos_en_base(tiempos_arribo, 0.8)\n",
    "    return tiempos_arribo, tiempos_procesado, tiempos_espera"
   ]
  },
  {
   "cell_type": "code",
   "execution_count": 89,
   "metadata": {},
   "outputs": [
    {
     "name": "stdout",
     "output_type": "stream",
     "text": [
      "Tiempo medio de espera: 0.20005883338272462 segundos\n",
      "Fraccion de solicitudes sin esperar: 0.8001481999999999\n",
      "Tasa de finalizacion: 0.250094255014842 solicitudes finalizadas por segundo\n"
     ]
    }
   ],
   "source": [
    "mostrar_resultado(simular(4, 100, 100000, alternativa_2))"
   ]
  },
  {
   "cell_type": "code",
   "execution_count": 90,
   "metadata": {},
   "outputs": [
    {
     "name": "stdout",
     "output_type": "stream",
     "text": [
      "Tiempo medio de espera: 0.5335923928684551 segundos\n",
      "Fraccion de solicitudes sin esperar: 0.5997661999999998\n",
      "Tasa de finalizacion: 0.5000102721622344 solicitudes finalizadas por segundo\n"
     ]
    }
   ],
   "source": [
    "mostrar_resultado(simular(2, 100, 100000, alternativa_2))"
   ]
  },
  {
   "cell_type": "code",
   "execution_count": 91,
   "metadata": {},
   "outputs": [
    {
     "name": "stdout",
     "output_type": "stream",
     "text": [
      "Tiempo medio de espera: 3.212825179536111 segundos\n",
      "Fraccion de solicitudes sin esperar: 0.19969410000000007\n",
      "Tasa de finalizacion: 1.0000964828727401 solicitudes finalizadas por segundo\n"
     ]
    }
   ],
   "source": [
    "mostrar_resultado(simular(1, 100, 100000, alternativa_2))"
   ]
  },
  {
   "cell_type": "markdown",
   "metadata": {},
   "source": []
  },
  {
   "cell_type": "code",
   "execution_count": null,
   "metadata": {},
   "outputs": [],
   "source": []
  }
 ],
 "metadata": {
  "kernelspec": {
   "display_name": "Python 3",
   "language": "python",
   "name": "python3"
  },
  "language_info": {
   "codemirror_mode": {
    "name": "ipython",
    "version": 3
   },
   "file_extension": ".py",
   "mimetype": "text/x-python",
   "name": "python",
   "nbconvert_exporter": "python",
   "pygments_lexer": "ipython3",
   "version": "3.7.4"
  }
 },
 "nbformat": 4,
 "nbformat_minor": 4
}
